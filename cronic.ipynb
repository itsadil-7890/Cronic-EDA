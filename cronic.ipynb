{
 "cells": [
  {
   "cell_type": "code",
   "execution_count": 1,
   "id": "0cf2c1ef",
   "metadata": {},
   "outputs": [],
   "source": [
    "import pandas as pd\n",
    "import numpy as np\n",
    "import seaborn as sns\n",
    "import matplotlib.pyplot as plt\n",
    "import plotly.express as px\n",
    "\n",
    "import warnings \n",
    "warnings.filterwarnings('ignore')"
   ]
  },
  {
   "cell_type": "code",
   "execution_count": 2,
   "id": "8571d04f",
   "metadata": {},
   "outputs": [],
   "source": [
    "df =  pd.read_csv('kidney_disease.csv')"
   ]
  },
  {
   "cell_type": "code",
   "execution_count": 3,
   "id": "20ca0f20",
   "metadata": {},
   "outputs": [
    {
     "data": {
      "text/html": [
       "<div>\n",
       "<style scoped>\n",
       "    .dataframe tbody tr th:only-of-type {\n",
       "        vertical-align: middle;\n",
       "    }\n",
       "\n",
       "    .dataframe tbody tr th {\n",
       "        vertical-align: top;\n",
       "    }\n",
       "\n",
       "    .dataframe thead th {\n",
       "        text-align: right;\n",
       "    }\n",
       "</style>\n",
       "<table border=\"1\" class=\"dataframe\">\n",
       "  <thead>\n",
       "    <tr style=\"text-align: right;\">\n",
       "      <th></th>\n",
       "      <th>id</th>\n",
       "      <th>age</th>\n",
       "      <th>bp</th>\n",
       "      <th>sg</th>\n",
       "      <th>al</th>\n",
       "      <th>su</th>\n",
       "      <th>rbc</th>\n",
       "      <th>pc</th>\n",
       "      <th>pcc</th>\n",
       "      <th>ba</th>\n",
       "      <th>...</th>\n",
       "      <th>pcv</th>\n",
       "      <th>wc</th>\n",
       "      <th>rc</th>\n",
       "      <th>htn</th>\n",
       "      <th>dm</th>\n",
       "      <th>cad</th>\n",
       "      <th>appet</th>\n",
       "      <th>pe</th>\n",
       "      <th>ane</th>\n",
       "      <th>classification</th>\n",
       "    </tr>\n",
       "  </thead>\n",
       "  <tbody>\n",
       "    <tr>\n",
       "      <th>0</th>\n",
       "      <td>0</td>\n",
       "      <td>48.0</td>\n",
       "      <td>80.0</td>\n",
       "      <td>1.020</td>\n",
       "      <td>1.0</td>\n",
       "      <td>0.0</td>\n",
       "      <td>NaN</td>\n",
       "      <td>normal</td>\n",
       "      <td>notpresent</td>\n",
       "      <td>notpresent</td>\n",
       "      <td>...</td>\n",
       "      <td>44</td>\n",
       "      <td>7800</td>\n",
       "      <td>5.2</td>\n",
       "      <td>yes</td>\n",
       "      <td>yes</td>\n",
       "      <td>no</td>\n",
       "      <td>good</td>\n",
       "      <td>no</td>\n",
       "      <td>no</td>\n",
       "      <td>ckd</td>\n",
       "    </tr>\n",
       "    <tr>\n",
       "      <th>1</th>\n",
       "      <td>1</td>\n",
       "      <td>7.0</td>\n",
       "      <td>50.0</td>\n",
       "      <td>1.020</td>\n",
       "      <td>4.0</td>\n",
       "      <td>0.0</td>\n",
       "      <td>NaN</td>\n",
       "      <td>normal</td>\n",
       "      <td>notpresent</td>\n",
       "      <td>notpresent</td>\n",
       "      <td>...</td>\n",
       "      <td>38</td>\n",
       "      <td>6000</td>\n",
       "      <td>NaN</td>\n",
       "      <td>no</td>\n",
       "      <td>no</td>\n",
       "      <td>no</td>\n",
       "      <td>good</td>\n",
       "      <td>no</td>\n",
       "      <td>no</td>\n",
       "      <td>ckd</td>\n",
       "    </tr>\n",
       "    <tr>\n",
       "      <th>2</th>\n",
       "      <td>2</td>\n",
       "      <td>62.0</td>\n",
       "      <td>80.0</td>\n",
       "      <td>1.010</td>\n",
       "      <td>2.0</td>\n",
       "      <td>3.0</td>\n",
       "      <td>normal</td>\n",
       "      <td>normal</td>\n",
       "      <td>notpresent</td>\n",
       "      <td>notpresent</td>\n",
       "      <td>...</td>\n",
       "      <td>31</td>\n",
       "      <td>7500</td>\n",
       "      <td>NaN</td>\n",
       "      <td>no</td>\n",
       "      <td>yes</td>\n",
       "      <td>no</td>\n",
       "      <td>poor</td>\n",
       "      <td>no</td>\n",
       "      <td>yes</td>\n",
       "      <td>ckd</td>\n",
       "    </tr>\n",
       "    <tr>\n",
       "      <th>3</th>\n",
       "      <td>3</td>\n",
       "      <td>48.0</td>\n",
       "      <td>70.0</td>\n",
       "      <td>1.005</td>\n",
       "      <td>4.0</td>\n",
       "      <td>0.0</td>\n",
       "      <td>normal</td>\n",
       "      <td>abnormal</td>\n",
       "      <td>present</td>\n",
       "      <td>notpresent</td>\n",
       "      <td>...</td>\n",
       "      <td>32</td>\n",
       "      <td>6700</td>\n",
       "      <td>3.9</td>\n",
       "      <td>yes</td>\n",
       "      <td>no</td>\n",
       "      <td>no</td>\n",
       "      <td>poor</td>\n",
       "      <td>yes</td>\n",
       "      <td>yes</td>\n",
       "      <td>ckd</td>\n",
       "    </tr>\n",
       "    <tr>\n",
       "      <th>4</th>\n",
       "      <td>4</td>\n",
       "      <td>51.0</td>\n",
       "      <td>80.0</td>\n",
       "      <td>1.010</td>\n",
       "      <td>2.0</td>\n",
       "      <td>0.0</td>\n",
       "      <td>normal</td>\n",
       "      <td>normal</td>\n",
       "      <td>notpresent</td>\n",
       "      <td>notpresent</td>\n",
       "      <td>...</td>\n",
       "      <td>35</td>\n",
       "      <td>7300</td>\n",
       "      <td>4.6</td>\n",
       "      <td>no</td>\n",
       "      <td>no</td>\n",
       "      <td>no</td>\n",
       "      <td>good</td>\n",
       "      <td>no</td>\n",
       "      <td>no</td>\n",
       "      <td>ckd</td>\n",
       "    </tr>\n",
       "    <tr>\n",
       "      <th>...</th>\n",
       "      <td>...</td>\n",
       "      <td>...</td>\n",
       "      <td>...</td>\n",
       "      <td>...</td>\n",
       "      <td>...</td>\n",
       "      <td>...</td>\n",
       "      <td>...</td>\n",
       "      <td>...</td>\n",
       "      <td>...</td>\n",
       "      <td>...</td>\n",
       "      <td>...</td>\n",
       "      <td>...</td>\n",
       "      <td>...</td>\n",
       "      <td>...</td>\n",
       "      <td>...</td>\n",
       "      <td>...</td>\n",
       "      <td>...</td>\n",
       "      <td>...</td>\n",
       "      <td>...</td>\n",
       "      <td>...</td>\n",
       "      <td>...</td>\n",
       "    </tr>\n",
       "    <tr>\n",
       "      <th>395</th>\n",
       "      <td>395</td>\n",
       "      <td>55.0</td>\n",
       "      <td>80.0</td>\n",
       "      <td>1.020</td>\n",
       "      <td>0.0</td>\n",
       "      <td>0.0</td>\n",
       "      <td>normal</td>\n",
       "      <td>normal</td>\n",
       "      <td>notpresent</td>\n",
       "      <td>notpresent</td>\n",
       "      <td>...</td>\n",
       "      <td>47</td>\n",
       "      <td>6700</td>\n",
       "      <td>4.9</td>\n",
       "      <td>no</td>\n",
       "      <td>no</td>\n",
       "      <td>no</td>\n",
       "      <td>good</td>\n",
       "      <td>no</td>\n",
       "      <td>no</td>\n",
       "      <td>notckd</td>\n",
       "    </tr>\n",
       "    <tr>\n",
       "      <th>396</th>\n",
       "      <td>396</td>\n",
       "      <td>42.0</td>\n",
       "      <td>70.0</td>\n",
       "      <td>1.025</td>\n",
       "      <td>0.0</td>\n",
       "      <td>0.0</td>\n",
       "      <td>normal</td>\n",
       "      <td>normal</td>\n",
       "      <td>notpresent</td>\n",
       "      <td>notpresent</td>\n",
       "      <td>...</td>\n",
       "      <td>54</td>\n",
       "      <td>7800</td>\n",
       "      <td>6.2</td>\n",
       "      <td>no</td>\n",
       "      <td>no</td>\n",
       "      <td>no</td>\n",
       "      <td>good</td>\n",
       "      <td>no</td>\n",
       "      <td>no</td>\n",
       "      <td>notckd</td>\n",
       "    </tr>\n",
       "    <tr>\n",
       "      <th>397</th>\n",
       "      <td>397</td>\n",
       "      <td>12.0</td>\n",
       "      <td>80.0</td>\n",
       "      <td>1.020</td>\n",
       "      <td>0.0</td>\n",
       "      <td>0.0</td>\n",
       "      <td>normal</td>\n",
       "      <td>normal</td>\n",
       "      <td>notpresent</td>\n",
       "      <td>notpresent</td>\n",
       "      <td>...</td>\n",
       "      <td>49</td>\n",
       "      <td>6600</td>\n",
       "      <td>5.4</td>\n",
       "      <td>no</td>\n",
       "      <td>no</td>\n",
       "      <td>no</td>\n",
       "      <td>good</td>\n",
       "      <td>no</td>\n",
       "      <td>no</td>\n",
       "      <td>notckd</td>\n",
       "    </tr>\n",
       "    <tr>\n",
       "      <th>398</th>\n",
       "      <td>398</td>\n",
       "      <td>17.0</td>\n",
       "      <td>60.0</td>\n",
       "      <td>1.025</td>\n",
       "      <td>0.0</td>\n",
       "      <td>0.0</td>\n",
       "      <td>normal</td>\n",
       "      <td>normal</td>\n",
       "      <td>notpresent</td>\n",
       "      <td>notpresent</td>\n",
       "      <td>...</td>\n",
       "      <td>51</td>\n",
       "      <td>7200</td>\n",
       "      <td>5.9</td>\n",
       "      <td>no</td>\n",
       "      <td>no</td>\n",
       "      <td>no</td>\n",
       "      <td>good</td>\n",
       "      <td>no</td>\n",
       "      <td>no</td>\n",
       "      <td>notckd</td>\n",
       "    </tr>\n",
       "    <tr>\n",
       "      <th>399</th>\n",
       "      <td>399</td>\n",
       "      <td>58.0</td>\n",
       "      <td>80.0</td>\n",
       "      <td>1.025</td>\n",
       "      <td>0.0</td>\n",
       "      <td>0.0</td>\n",
       "      <td>normal</td>\n",
       "      <td>normal</td>\n",
       "      <td>notpresent</td>\n",
       "      <td>notpresent</td>\n",
       "      <td>...</td>\n",
       "      <td>53</td>\n",
       "      <td>6800</td>\n",
       "      <td>6.1</td>\n",
       "      <td>no</td>\n",
       "      <td>no</td>\n",
       "      <td>no</td>\n",
       "      <td>good</td>\n",
       "      <td>no</td>\n",
       "      <td>no</td>\n",
       "      <td>notckd</td>\n",
       "    </tr>\n",
       "  </tbody>\n",
       "</table>\n",
       "<p>400 rows × 26 columns</p>\n",
       "</div>"
      ],
      "text/plain": [
       "      id   age    bp     sg   al   su     rbc        pc         pcc  \\\n",
       "0      0  48.0  80.0  1.020  1.0  0.0     NaN    normal  notpresent   \n",
       "1      1   7.0  50.0  1.020  4.0  0.0     NaN    normal  notpresent   \n",
       "2      2  62.0  80.0  1.010  2.0  3.0  normal    normal  notpresent   \n",
       "3      3  48.0  70.0  1.005  4.0  0.0  normal  abnormal     present   \n",
       "4      4  51.0  80.0  1.010  2.0  0.0  normal    normal  notpresent   \n",
       "..   ...   ...   ...    ...  ...  ...     ...       ...         ...   \n",
       "395  395  55.0  80.0  1.020  0.0  0.0  normal    normal  notpresent   \n",
       "396  396  42.0  70.0  1.025  0.0  0.0  normal    normal  notpresent   \n",
       "397  397  12.0  80.0  1.020  0.0  0.0  normal    normal  notpresent   \n",
       "398  398  17.0  60.0  1.025  0.0  0.0  normal    normal  notpresent   \n",
       "399  399  58.0  80.0  1.025  0.0  0.0  normal    normal  notpresent   \n",
       "\n",
       "             ba  ...  pcv    wc   rc  htn   dm  cad appet   pe  ane  \\\n",
       "0    notpresent  ...   44  7800  5.2  yes  yes   no  good   no   no   \n",
       "1    notpresent  ...   38  6000  NaN   no   no   no  good   no   no   \n",
       "2    notpresent  ...   31  7500  NaN   no  yes   no  poor   no  yes   \n",
       "3    notpresent  ...   32  6700  3.9  yes   no   no  poor  yes  yes   \n",
       "4    notpresent  ...   35  7300  4.6   no   no   no  good   no   no   \n",
       "..          ...  ...  ...   ...  ...  ...  ...  ...   ...  ...  ...   \n",
       "395  notpresent  ...   47  6700  4.9   no   no   no  good   no   no   \n",
       "396  notpresent  ...   54  7800  6.2   no   no   no  good   no   no   \n",
       "397  notpresent  ...   49  6600  5.4   no   no   no  good   no   no   \n",
       "398  notpresent  ...   51  7200  5.9   no   no   no  good   no   no   \n",
       "399  notpresent  ...   53  6800  6.1   no   no   no  good   no   no   \n",
       "\n",
       "    classification  \n",
       "0              ckd  \n",
       "1              ckd  \n",
       "2              ckd  \n",
       "3              ckd  \n",
       "4              ckd  \n",
       "..             ...  \n",
       "395         notckd  \n",
       "396         notckd  \n",
       "397         notckd  \n",
       "398         notckd  \n",
       "399         notckd  \n",
       "\n",
       "[400 rows x 26 columns]"
      ]
     },
     "execution_count": 3,
     "metadata": {},
     "output_type": "execute_result"
    }
   ],
   "source": [
    "df"
   ]
  },
  {
   "cell_type": "code",
   "execution_count": 4,
   "id": "dd68835a",
   "metadata": {},
   "outputs": [
    {
     "data": {
      "text/plain": [
       "(400, 26)"
      ]
     },
     "execution_count": 4,
     "metadata": {},
     "output_type": "execute_result"
    }
   ],
   "source": [
    "df.shape"
   ]
  },
  {
   "cell_type": "code",
   "execution_count": 5,
   "id": "ff66974e",
   "metadata": {},
   "outputs": [
    {
     "name": "stdout",
     "output_type": "stream",
     "text": [
      "<class 'pandas.core.frame.DataFrame'>\n",
      "RangeIndex: 400 entries, 0 to 399\n",
      "Data columns (total 26 columns):\n",
      " #   Column          Non-Null Count  Dtype  \n",
      "---  ------          --------------  -----  \n",
      " 0   id              400 non-null    int64  \n",
      " 1   age             391 non-null    float64\n",
      " 2   bp              388 non-null    float64\n",
      " 3   sg              353 non-null    float64\n",
      " 4   al              354 non-null    float64\n",
      " 5   su              351 non-null    float64\n",
      " 6   rbc             248 non-null    object \n",
      " 7   pc              335 non-null    object \n",
      " 8   pcc             396 non-null    object \n",
      " 9   ba              396 non-null    object \n",
      " 10  bgr             356 non-null    float64\n",
      " 11  bu              381 non-null    float64\n",
      " 12  sc              383 non-null    float64\n",
      " 13  sod             313 non-null    float64\n",
      " 14  pot             312 non-null    float64\n",
      " 15  hemo            348 non-null    float64\n",
      " 16  pcv             330 non-null    object \n",
      " 17  wc              295 non-null    object \n",
      " 18  rc              270 non-null    object \n",
      " 19  htn             398 non-null    object \n",
      " 20  dm              398 non-null    object \n",
      " 21  cad             398 non-null    object \n",
      " 22  appet           399 non-null    object \n",
      " 23  pe              399 non-null    object \n",
      " 24  ane             399 non-null    object \n",
      " 25  classification  400 non-null    object \n",
      "dtypes: float64(11), int64(1), object(14)\n",
      "memory usage: 81.4+ KB\n"
     ]
    }
   ],
   "source": [
    "df.info()"
   ]
  },
  {
   "cell_type": "markdown",
   "id": "bb01be09",
   "metadata": {},
   "source": [
    "# We are not able to get or understand anything from the column name which is defined in data we have edit it"
   ]
  },
  {
   "cell_type": "code",
   "execution_count": 6,
   "id": "c08235de",
   "metadata": {},
   "outputs": [
    {
     "data": {
      "text/plain": [
       "Index(['id', 'age', 'bp', 'sg', 'al', 'su', 'rbc', 'pc', 'pcc', 'ba', 'bgr',\n",
       "       'bu', 'sc', 'sod', 'pot', 'hemo', 'pcv', 'wc', 'rc', 'htn', 'dm', 'cad',\n",
       "       'appet', 'pe', 'ane', 'classification'],\n",
       "      dtype='object')"
      ]
     },
     "execution_count": 6,
     "metadata": {},
     "output_type": "execute_result"
    }
   ],
   "source": [
    "df.columns"
   ]
  },
  {
   "cell_type": "code",
   "execution_count": 7,
   "id": "f36e80ea",
   "metadata": {},
   "outputs": [],
   "source": [
    "# updating column names\n",
    "df.columns = ['Id','Age', 'Blood_Pressure', 'Specific_Gravity', 'Albumin', 'Sugar', 'Red_Blood_Cells', 'Pus_Cell', 'Pus_Cell_Clumps', 'Bacteria',\n",
    "'Blood_Glucose_Random', 'Blood_Urea', 'Serum_Creatinine', 'Sodium', 'Potassium', 'Hemoglobin', 'Packed_Cell_Volume', 'White_Blood_Cell_Count', \n",
    "'Red_Blood_Cell_Count', 'Hypertension', 'Diabetes_Mellitus', 'Coronary_Artery_Disease', 'Appetite', 'Pedal_Edema', 'Anemia', 'Target_Class']"
   ]
  },
  {
   "cell_type": "code",
   "execution_count": 8,
   "id": "a70d280e",
   "metadata": {},
   "outputs": [
    {
     "data": {
      "text/html": [
       "<div>\n",
       "<style scoped>\n",
       "    .dataframe tbody tr th:only-of-type {\n",
       "        vertical-align: middle;\n",
       "    }\n",
       "\n",
       "    .dataframe tbody tr th {\n",
       "        vertical-align: top;\n",
       "    }\n",
       "\n",
       "    .dataframe thead th {\n",
       "        text-align: right;\n",
       "    }\n",
       "</style>\n",
       "<table border=\"1\" class=\"dataframe\">\n",
       "  <thead>\n",
       "    <tr style=\"text-align: right;\">\n",
       "      <th></th>\n",
       "      <th>Id</th>\n",
       "      <th>Age</th>\n",
       "      <th>Blood_Pressure</th>\n",
       "      <th>Specific_Gravity</th>\n",
       "      <th>Albumin</th>\n",
       "      <th>Sugar</th>\n",
       "      <th>Red_Blood_Cells</th>\n",
       "      <th>Pus_Cell</th>\n",
       "      <th>Pus_Cell_Clumps</th>\n",
       "      <th>Bacteria</th>\n",
       "      <th>...</th>\n",
       "      <th>Packed_Cell_Volume</th>\n",
       "      <th>White_Blood_Cell_Count</th>\n",
       "      <th>Red_Blood_Cell_Count</th>\n",
       "      <th>Hypertension</th>\n",
       "      <th>Diabetes_Mellitus</th>\n",
       "      <th>Coronary_Artery_Disease</th>\n",
       "      <th>Appetite</th>\n",
       "      <th>Pedal_Edema</th>\n",
       "      <th>Anemia</th>\n",
       "      <th>Target_Class</th>\n",
       "    </tr>\n",
       "  </thead>\n",
       "  <tbody>\n",
       "    <tr>\n",
       "      <th>0</th>\n",
       "      <td>0</td>\n",
       "      <td>48.0</td>\n",
       "      <td>80.0</td>\n",
       "      <td>1.02</td>\n",
       "      <td>1.0</td>\n",
       "      <td>0.0</td>\n",
       "      <td>NaN</td>\n",
       "      <td>normal</td>\n",
       "      <td>notpresent</td>\n",
       "      <td>notpresent</td>\n",
       "      <td>...</td>\n",
       "      <td>44</td>\n",
       "      <td>7800</td>\n",
       "      <td>5.2</td>\n",
       "      <td>yes</td>\n",
       "      <td>yes</td>\n",
       "      <td>no</td>\n",
       "      <td>good</td>\n",
       "      <td>no</td>\n",
       "      <td>no</td>\n",
       "      <td>ckd</td>\n",
       "    </tr>\n",
       "    <tr>\n",
       "      <th>1</th>\n",
       "      <td>1</td>\n",
       "      <td>7.0</td>\n",
       "      <td>50.0</td>\n",
       "      <td>1.02</td>\n",
       "      <td>4.0</td>\n",
       "      <td>0.0</td>\n",
       "      <td>NaN</td>\n",
       "      <td>normal</td>\n",
       "      <td>notpresent</td>\n",
       "      <td>notpresent</td>\n",
       "      <td>...</td>\n",
       "      <td>38</td>\n",
       "      <td>6000</td>\n",
       "      <td>NaN</td>\n",
       "      <td>no</td>\n",
       "      <td>no</td>\n",
       "      <td>no</td>\n",
       "      <td>good</td>\n",
       "      <td>no</td>\n",
       "      <td>no</td>\n",
       "      <td>ckd</td>\n",
       "    </tr>\n",
       "  </tbody>\n",
       "</table>\n",
       "<p>2 rows × 26 columns</p>\n",
       "</div>"
      ],
      "text/plain": [
       "   Id   Age  Blood_Pressure  Specific_Gravity  Albumin  Sugar Red_Blood_Cells  \\\n",
       "0   0  48.0            80.0              1.02      1.0    0.0             NaN   \n",
       "1   1   7.0            50.0              1.02      4.0    0.0             NaN   \n",
       "\n",
       "  Pus_Cell Pus_Cell_Clumps    Bacteria  ...  Packed_Cell_Volume  \\\n",
       "0   normal      notpresent  notpresent  ...                  44   \n",
       "1   normal      notpresent  notpresent  ...                  38   \n",
       "\n",
       "   White_Blood_Cell_Count  Red_Blood_Cell_Count  Hypertension  \\\n",
       "0                    7800                   5.2           yes   \n",
       "1                    6000                   NaN            no   \n",
       "\n",
       "   Diabetes_Mellitus  Coronary_Artery_Disease Appetite Pedal_Edema Anemia  \\\n",
       "0                yes                       no     good          no     no   \n",
       "1                 no                       no     good          no     no   \n",
       "\n",
       "  Target_Class  \n",
       "0          ckd  \n",
       "1          ckd  \n",
       "\n",
       "[2 rows x 26 columns]"
      ]
     },
     "execution_count": 8,
     "metadata": {},
     "output_type": "execute_result"
    }
   ],
   "source": [
    "df.head(2)"
   ]
  },
  {
   "cell_type": "code",
   "execution_count": 9,
   "id": "c193aef1",
   "metadata": {},
   "outputs": [
    {
     "data": {
      "text/html": [
       "<div>\n",
       "<style scoped>\n",
       "    .dataframe tbody tr th:only-of-type {\n",
       "        vertical-align: middle;\n",
       "    }\n",
       "\n",
       "    .dataframe tbody tr th {\n",
       "        vertical-align: top;\n",
       "    }\n",
       "\n",
       "    .dataframe thead th {\n",
       "        text-align: right;\n",
       "    }\n",
       "</style>\n",
       "<table border=\"1\" class=\"dataframe\">\n",
       "  <thead>\n",
       "    <tr style=\"text-align: right;\">\n",
       "      <th></th>\n",
       "      <th>Id</th>\n",
       "      <th>Age</th>\n",
       "      <th>Blood_Pressure</th>\n",
       "      <th>Specific_Gravity</th>\n",
       "      <th>Albumin</th>\n",
       "      <th>Sugar</th>\n",
       "      <th>Blood_Glucose_Random</th>\n",
       "      <th>Blood_Urea</th>\n",
       "      <th>Serum_Creatinine</th>\n",
       "      <th>Sodium</th>\n",
       "      <th>Potassium</th>\n",
       "      <th>Hemoglobin</th>\n",
       "    </tr>\n",
       "  </thead>\n",
       "  <tbody>\n",
       "    <tr>\n",
       "      <th>count</th>\n",
       "      <td>400.000000</td>\n",
       "      <td>391.000000</td>\n",
       "      <td>388.000000</td>\n",
       "      <td>353.000000</td>\n",
       "      <td>354.000000</td>\n",
       "      <td>351.000000</td>\n",
       "      <td>356.000000</td>\n",
       "      <td>381.000000</td>\n",
       "      <td>383.000000</td>\n",
       "      <td>313.000000</td>\n",
       "      <td>312.000000</td>\n",
       "      <td>348.000000</td>\n",
       "    </tr>\n",
       "    <tr>\n",
       "      <th>mean</th>\n",
       "      <td>199.500000</td>\n",
       "      <td>51.483376</td>\n",
       "      <td>76.469072</td>\n",
       "      <td>1.017408</td>\n",
       "      <td>1.016949</td>\n",
       "      <td>0.450142</td>\n",
       "      <td>148.036517</td>\n",
       "      <td>57.425722</td>\n",
       "      <td>3.072454</td>\n",
       "      <td>137.528754</td>\n",
       "      <td>4.627244</td>\n",
       "      <td>12.526437</td>\n",
       "    </tr>\n",
       "    <tr>\n",
       "      <th>std</th>\n",
       "      <td>115.614301</td>\n",
       "      <td>17.169714</td>\n",
       "      <td>13.683637</td>\n",
       "      <td>0.005717</td>\n",
       "      <td>1.352679</td>\n",
       "      <td>1.099191</td>\n",
       "      <td>79.281714</td>\n",
       "      <td>50.503006</td>\n",
       "      <td>5.741126</td>\n",
       "      <td>10.408752</td>\n",
       "      <td>3.193904</td>\n",
       "      <td>2.912587</td>\n",
       "    </tr>\n",
       "    <tr>\n",
       "      <th>min</th>\n",
       "      <td>0.000000</td>\n",
       "      <td>2.000000</td>\n",
       "      <td>50.000000</td>\n",
       "      <td>1.005000</td>\n",
       "      <td>0.000000</td>\n",
       "      <td>0.000000</td>\n",
       "      <td>22.000000</td>\n",
       "      <td>1.500000</td>\n",
       "      <td>0.400000</td>\n",
       "      <td>4.500000</td>\n",
       "      <td>2.500000</td>\n",
       "      <td>3.100000</td>\n",
       "    </tr>\n",
       "    <tr>\n",
       "      <th>25%</th>\n",
       "      <td>99.750000</td>\n",
       "      <td>42.000000</td>\n",
       "      <td>70.000000</td>\n",
       "      <td>1.010000</td>\n",
       "      <td>0.000000</td>\n",
       "      <td>0.000000</td>\n",
       "      <td>99.000000</td>\n",
       "      <td>27.000000</td>\n",
       "      <td>0.900000</td>\n",
       "      <td>135.000000</td>\n",
       "      <td>3.800000</td>\n",
       "      <td>10.300000</td>\n",
       "    </tr>\n",
       "    <tr>\n",
       "      <th>50%</th>\n",
       "      <td>199.500000</td>\n",
       "      <td>55.000000</td>\n",
       "      <td>80.000000</td>\n",
       "      <td>1.020000</td>\n",
       "      <td>0.000000</td>\n",
       "      <td>0.000000</td>\n",
       "      <td>121.000000</td>\n",
       "      <td>42.000000</td>\n",
       "      <td>1.300000</td>\n",
       "      <td>138.000000</td>\n",
       "      <td>4.400000</td>\n",
       "      <td>12.650000</td>\n",
       "    </tr>\n",
       "    <tr>\n",
       "      <th>75%</th>\n",
       "      <td>299.250000</td>\n",
       "      <td>64.500000</td>\n",
       "      <td>80.000000</td>\n",
       "      <td>1.020000</td>\n",
       "      <td>2.000000</td>\n",
       "      <td>0.000000</td>\n",
       "      <td>163.000000</td>\n",
       "      <td>66.000000</td>\n",
       "      <td>2.800000</td>\n",
       "      <td>142.000000</td>\n",
       "      <td>4.900000</td>\n",
       "      <td>15.000000</td>\n",
       "    </tr>\n",
       "    <tr>\n",
       "      <th>max</th>\n",
       "      <td>399.000000</td>\n",
       "      <td>90.000000</td>\n",
       "      <td>180.000000</td>\n",
       "      <td>1.025000</td>\n",
       "      <td>5.000000</td>\n",
       "      <td>5.000000</td>\n",
       "      <td>490.000000</td>\n",
       "      <td>391.000000</td>\n",
       "      <td>76.000000</td>\n",
       "      <td>163.000000</td>\n",
       "      <td>47.000000</td>\n",
       "      <td>17.800000</td>\n",
       "    </tr>\n",
       "  </tbody>\n",
       "</table>\n",
       "</div>"
      ],
      "text/plain": [
       "               Id         Age  Blood_Pressure  Specific_Gravity     Albumin  \\\n",
       "count  400.000000  391.000000      388.000000        353.000000  354.000000   \n",
       "mean   199.500000   51.483376       76.469072          1.017408    1.016949   \n",
       "std    115.614301   17.169714       13.683637          0.005717    1.352679   \n",
       "min      0.000000    2.000000       50.000000          1.005000    0.000000   \n",
       "25%     99.750000   42.000000       70.000000          1.010000    0.000000   \n",
       "50%    199.500000   55.000000       80.000000          1.020000    0.000000   \n",
       "75%    299.250000   64.500000       80.000000          1.020000    2.000000   \n",
       "max    399.000000   90.000000      180.000000          1.025000    5.000000   \n",
       "\n",
       "            Sugar  Blood_Glucose_Random  Blood_Urea  Serum_Creatinine  \\\n",
       "count  351.000000            356.000000  381.000000        383.000000   \n",
       "mean     0.450142            148.036517   57.425722          3.072454   \n",
       "std      1.099191             79.281714   50.503006          5.741126   \n",
       "min      0.000000             22.000000    1.500000          0.400000   \n",
       "25%      0.000000             99.000000   27.000000          0.900000   \n",
       "50%      0.000000            121.000000   42.000000          1.300000   \n",
       "75%      0.000000            163.000000   66.000000          2.800000   \n",
       "max      5.000000            490.000000  391.000000         76.000000   \n",
       "\n",
       "           Sodium   Potassium  Hemoglobin  \n",
       "count  313.000000  312.000000  348.000000  \n",
       "mean   137.528754    4.627244   12.526437  \n",
       "std     10.408752    3.193904    2.912587  \n",
       "min      4.500000    2.500000    3.100000  \n",
       "25%    135.000000    3.800000   10.300000  \n",
       "50%    138.000000    4.400000   12.650000  \n",
       "75%    142.000000    4.900000   15.000000  \n",
       "max    163.000000   47.000000   17.800000  "
      ]
     },
     "execution_count": 9,
     "metadata": {},
     "output_type": "execute_result"
    }
   ],
   "source": [
    "# total discription of data\n",
    "df.describe()"
   ]
  },
  {
   "cell_type": "code",
   "execution_count": 10,
   "id": "d989cd8d",
   "metadata": {},
   "outputs": [
    {
     "data": {
      "text/plain": [
       "Index(['Id', 'Age', 'Blood_Pressure', 'Specific_Gravity', 'Albumin', 'Sugar',\n",
       "       'Red_Blood_Cells', 'Pus_Cell', 'Pus_Cell_Clumps', 'Bacteria',\n",
       "       'Blood_Glucose_Random', 'Blood_Urea', 'Serum_Creatinine', 'Sodium',\n",
       "       'Potassium', 'Hemoglobin', 'Packed_Cell_Volume',\n",
       "       'White_Blood_Cell_Count', 'Red_Blood_Cell_Count', 'Hypertension',\n",
       "       'Diabetes_Mellitus', 'Coronary_Artery_Disease', 'Appetite',\n",
       "       'Pedal_Edema', 'Anemia', 'Target_Class'],\n",
       "      dtype='object')"
      ]
     },
     "execution_count": 10,
     "metadata": {},
     "output_type": "execute_result"
    }
   ],
   "source": [
    "df.columns"
   ]
  },
  {
   "cell_type": "code",
   "execution_count": 11,
   "id": "1ecac802",
   "metadata": {},
   "outputs": [
    {
     "data": {
      "text/plain": [
       "array(['44', '38', '31', '32', '35', '39', '36', '33', '29', '28', nan,\n",
       "       '16', '24', '37', '30', '34', '40', '45', '27', '48', '\\t?', '52',\n",
       "       '14', '22', '18', '42', '17', '46', '23', '19', '25', '41', '26',\n",
       "       '15', '21', '43', '20', '\\t43', '47', '9', '49', '50', '53', '51',\n",
       "       '54'], dtype=object)"
      ]
     },
     "execution_count": 11,
     "metadata": {},
     "output_type": "execute_result"
    }
   ],
   "source": [
    "df['Packed_Cell_Volume'].unique()"
   ]
  },
  {
   "cell_type": "code",
   "execution_count": 12,
   "id": "83ce8bf1",
   "metadata": {},
   "outputs": [],
   "source": [
    "# we have to convert this packed cell volume column from object data type to float\n",
    "df['Packed_Cell_Volume'] = pd.to_numeric(df['Packed_Cell_Volume'] , errors= 'coerce')\n",
    "# coerce means all the errors will be supress at the time of converting it from object datatype to float datatype\n",
    "\n"
   ]
  },
  {
   "cell_type": "code",
   "execution_count": 13,
   "id": "ee7febd3",
   "metadata": {},
   "outputs": [
    {
     "data": {
      "text/plain": [
       "dtype('float64')"
      ]
     },
     "execution_count": 13,
     "metadata": {},
     "output_type": "execute_result"
    }
   ],
   "source": [
    "df['Packed_Cell_Volume'].dtype"
   ]
  },
  {
   "cell_type": "code",
   "execution_count": 14,
   "id": "4dd26d05",
   "metadata": {},
   "outputs": [
    {
     "data": {
      "text/plain": [
       "Index(['Id', 'Age', 'Blood_Pressure', 'Specific_Gravity', 'Albumin', 'Sugar',\n",
       "       'Red_Blood_Cells', 'Pus_Cell', 'Pus_Cell_Clumps', 'Bacteria',\n",
       "       'Blood_Glucose_Random', 'Blood_Urea', 'Serum_Creatinine', 'Sodium',\n",
       "       'Potassium', 'Hemoglobin', 'Packed_Cell_Volume',\n",
       "       'White_Blood_Cell_Count', 'Red_Blood_Cell_Count', 'Hypertension',\n",
       "       'Diabetes_Mellitus', 'Coronary_Artery_Disease', 'Appetite',\n",
       "       'Pedal_Edema', 'Anemia', 'Target_Class'],\n",
       "      dtype='object')"
      ]
     },
     "execution_count": 14,
     "metadata": {},
     "output_type": "execute_result"
    }
   ],
   "source": [
    "df.columns"
   ]
  },
  {
   "cell_type": "code",
   "execution_count": 15,
   "id": "477f8cb6",
   "metadata": {},
   "outputs": [],
   "source": [
    "df['Red_Blood_Cell_Count'] = pd.to_numeric(df['Red_Blood_Cell_Count'] , errors='coerce')"
   ]
  },
  {
   "cell_type": "code",
   "execution_count": 16,
   "id": "4dc10a94",
   "metadata": {},
   "outputs": [
    {
     "data": {
      "text/plain": [
       "dtype('float64')"
      ]
     },
     "execution_count": 16,
     "metadata": {},
     "output_type": "execute_result"
    }
   ],
   "source": [
    "df['Red_Blood_Cell_Count'].dtype"
   ]
  },
  {
   "cell_type": "code",
   "execution_count": 17,
   "id": "43b46f5e",
   "metadata": {},
   "outputs": [],
   "source": [
    "df['White_Blood_Cell_Count'] = pd.to_numeric(df['White_Blood_Cell_Count'] , errors='coerce')"
   ]
  },
  {
   "cell_type": "code",
   "execution_count": 18,
   "id": "d0b496e9",
   "metadata": {},
   "outputs": [],
   "source": [
    "# finding categorical columns\n",
    "categorical_column = [col for col in df.columns if df[col].dtype == 'object']"
   ]
  },
  {
   "cell_type": "code",
   "execution_count": 19,
   "id": "4faf08cf",
   "metadata": {},
   "outputs": [
    {
     "data": {
      "text/plain": [
       "['Red_Blood_Cells',\n",
       " 'Pus_Cell',\n",
       " 'Pus_Cell_Clumps',\n",
       " 'Bacteria',\n",
       " 'Hypertension',\n",
       " 'Diabetes_Mellitus',\n",
       " 'Coronary_Artery_Disease',\n",
       " 'Appetite',\n",
       " 'Pedal_Edema',\n",
       " 'Anemia',\n",
       " 'Target_Class']"
      ]
     },
     "execution_count": 19,
     "metadata": {},
     "output_type": "execute_result"
    }
   ],
   "source": [
    "categorical_column"
   ]
  },
  {
   "cell_type": "code",
   "execution_count": 20,
   "id": "af74189f",
   "metadata": {},
   "outputs": [],
   "source": [
    "# finding numerical columns\n",
    "numerical_column = [col for col in df.columns if df[col].dtype == 'float']"
   ]
  },
  {
   "cell_type": "code",
   "execution_count": 21,
   "id": "b3572381",
   "metadata": {},
   "outputs": [
    {
     "data": {
      "text/plain": [
       "['Age',\n",
       " 'Blood_Pressure',\n",
       " 'Specific_Gravity',\n",
       " 'Albumin',\n",
       " 'Sugar',\n",
       " 'Blood_Glucose_Random',\n",
       " 'Blood_Urea',\n",
       " 'Serum_Creatinine',\n",
       " 'Sodium',\n",
       " 'Potassium',\n",
       " 'Hemoglobin',\n",
       " 'Packed_Cell_Volume',\n",
       " 'White_Blood_Cell_Count',\n",
       " 'Red_Blood_Cell_Count']"
      ]
     },
     "execution_count": 21,
     "metadata": {},
     "output_type": "execute_result"
    }
   ],
   "source": [
    "numerical_column"
   ]
  },
  {
   "cell_type": "code",
   "execution_count": 22,
   "id": "19bc2e10",
   "metadata": {},
   "outputs": [
    {
     "name": "stdout",
     "output_type": "stream",
     "text": [
      "Red_Blood_Cells has [nan 'normal' 'abnormal'] values \n",
      "\n",
      "Pus_Cell has ['normal' 'abnormal' nan] values \n",
      "\n",
      "Pus_Cell_Clumps has ['notpresent' 'present' nan] values \n",
      "\n",
      "Bacteria has ['notpresent' 'present' nan] values \n",
      "\n",
      "Hypertension has ['yes' 'no' nan] values \n",
      "\n",
      "Diabetes_Mellitus has ['yes' 'no' ' yes' '\\tno' '\\tyes' nan] values \n",
      "\n",
      "Coronary_Artery_Disease has ['no' 'yes' '\\tno' nan] values \n",
      "\n",
      "Appetite has ['good' 'poor' nan] values \n",
      "\n",
      "Pedal_Edema has ['no' 'yes' nan] values \n",
      "\n",
      "Anemia has ['no' 'yes' nan] values \n",
      "\n",
      "Target_Class has ['ckd' 'ckd\\t' 'notckd'] values \n",
      "\n"
     ]
    }
   ],
   "source": [
    "#in this step we have tried to find All the unique values of respective all the column \n",
    "for col in categorical_column:\n",
    "    print(f\"{col} has {df[col].unique()} values \\n\")"
   ]
  },
  {
   "cell_type": "code",
   "execution_count": 23,
   "id": "c07d92d0",
   "metadata": {},
   "outputs": [],
   "source": [
    "# we have seen that some values in diabetes mellitus column is miss typed at the time of data entry so we have to correct it to correct values\n",
    "df['Diabetes_Mellitus'].replace(to_replace={' yes': 'yes','\\tno':'no','\\tyes':'yes'}, inplace= True)"
   ]
  },
  {
   "cell_type": "code",
   "execution_count": 24,
   "id": "a611e6d5",
   "metadata": {},
   "outputs": [],
   "source": [
    "# same is for Coronary_Artery_Disease column is miss typed at the time of data entry so we have to correct it to correct values\n",
    "df['Coronary_Artery_Disease'].replace(to_replace={'\\tno':'no'}, inplace= True)"
   ]
  },
  {
   "cell_type": "code",
   "execution_count": 25,
   "id": "35285466",
   "metadata": {},
   "outputs": [],
   "source": [
    "# same is for Target_Class column is miss typed at the time of data entry so we have to correct it to correct values\n",
    "df['Target_Class'].replace(to_replace={'ckd\\t':'ckd'}, inplace= True)"
   ]
  },
  {
   "cell_type": "code",
   "execution_count": 26,
   "id": "68060c3a",
   "metadata": {},
   "outputs": [
    {
     "data": {
      "text/plain": [
       "array(['no', 'yes', nan], dtype=object)"
      ]
     },
     "execution_count": 26,
     "metadata": {},
     "output_type": "execute_result"
    }
   ],
   "source": [
    "df['Coronary_Artery_Disease'].unique()"
   ]
  },
  {
   "cell_type": "code",
   "execution_count": 27,
   "id": "78640869",
   "metadata": {},
   "outputs": [
    {
     "name": "stdout",
     "output_type": "stream",
     "text": [
      "Red_Blood_Cells has [nan 'normal' 'abnormal'] values \n",
      "\n",
      "Pus_Cell has ['normal' 'abnormal' nan] values \n",
      "\n",
      "Pus_Cell_Clumps has ['notpresent' 'present' nan] values \n",
      "\n",
      "Bacteria has ['notpresent' 'present' nan] values \n",
      "\n",
      "Hypertension has ['yes' 'no' nan] values \n",
      "\n",
      "Diabetes_Mellitus has ['yes' 'no' nan] values \n",
      "\n",
      "Coronary_Artery_Disease has ['no' 'yes' nan] values \n",
      "\n",
      "Appetite has ['good' 'poor' nan] values \n",
      "\n",
      "Pedal_Edema has ['no' 'yes' nan] values \n",
      "\n",
      "Anemia has ['no' 'yes' nan] values \n",
      "\n",
      "Target_Class has ['ckd' 'notckd'] values \n",
      "\n"
     ]
    }
   ],
   "source": [
    "#final check\n",
    "for col in categorical_column:\n",
    "    print(f\"{col} has {df[col].unique()} values \\n\")"
   ]
  },
  {
   "cell_type": "code",
   "execution_count": 28,
   "id": "79c96bbb",
   "metadata": {},
   "outputs": [
    {
     "data": {
      "text/plain": [
       "Target_Class\n",
       "0    250\n",
       "1    150\n",
       "Name: count, dtype: int64"
      ]
     },
     "execution_count": 28,
     "metadata": {},
     "output_type": "execute_result"
    }
   ],
   "source": [
    "# so we can do data encoding also for Taget class column because it contain two value and we can easily encode it \n",
    "df['Target_Class'].map({'ckd':'0','notckd':'1'}).value_counts()"
   ]
  },
  {
   "cell_type": "code",
   "execution_count": 29,
   "id": "df48a71a",
   "metadata": {},
   "outputs": [
    {
     "data": {
      "text/plain": [
       "Index(['Id', 'Age', 'Blood_Pressure', 'Specific_Gravity', 'Albumin', 'Sugar',\n",
       "       'Red_Blood_Cells', 'Pus_Cell', 'Pus_Cell_Clumps', 'Bacteria',\n",
       "       'Blood_Glucose_Random', 'Blood_Urea', 'Serum_Creatinine', 'Sodium',\n",
       "       'Potassium', 'Hemoglobin', 'Packed_Cell_Volume',\n",
       "       'White_Blood_Cell_Count', 'Red_Blood_Cell_Count', 'Hypertension',\n",
       "       'Diabetes_Mellitus', 'Coronary_Artery_Disease', 'Appetite',\n",
       "       'Pedal_Edema', 'Anemia', 'Target_Class'],\n",
       "      dtype='object')"
      ]
     },
     "execution_count": 29,
     "metadata": {},
     "output_type": "execute_result"
    }
   ],
   "source": [
    "df.columns"
   ]
  },
  {
   "cell_type": "code",
   "execution_count": 30,
   "id": "64eac687",
   "metadata": {},
   "outputs": [
    {
     "data": {
      "image/png": "[encoded data removed]",
      "text/plain": [
       "<Figure size 1000x600 with 1 Axes>"
      ]
     },
     "metadata": {},
     "output_type": "display_data"
    }
   ],
   "source": [
    "# univariate \n",
    "plt.figure(figsize=(10,6))\n",
    "sns.histplot(df['Age'].dropna() , kde= True , bins=20,color= 'red')\n",
    "\n",
    "plt.title(\"Age distribution Graph\")\n",
    "plt.ylabel(\"frequency\")\n",
    "plt.grid(color = 'grey' , linewidth =0.5)\n",
    "plt.show()\n"
   ]
  },
  {
   "cell_type": "code",
   "execution_count": 31,
   "id": "09774220",
   "metadata": {},
   "outputs": [
    {
     "data": {
      "text/plain": [
       "Index(['Id', 'Age', 'Blood_Pressure', 'Specific_Gravity', 'Albumin', 'Sugar',\n",
       "       'Red_Blood_Cells', 'Pus_Cell', 'Pus_Cell_Clumps', 'Bacteria',\n",
       "       'Blood_Glucose_Random', 'Blood_Urea', 'Serum_Creatinine', 'Sodium',\n",
       "       'Potassium', 'Hemoglobin', 'Packed_Cell_Volume',\n",
       "       'White_Blood_Cell_Count', 'Red_Blood_Cell_Count', 'Hypertension',\n",
       "       'Diabetes_Mellitus', 'Coronary_Artery_Disease', 'Appetite',\n",
       "       'Pedal_Edema', 'Anemia', 'Target_Class'],\n",
       "      dtype='object')"
      ]
     },
     "execution_count": 31,
     "metadata": {},
     "output_type": "execute_result"
    }
   ],
   "source": [
    "df.columns"
   ]
  },
  {
   "cell_type": "code",
   "execution_count": 32,
   "id": "daa8d415",
   "metadata": {},
   "outputs": [
    {
     "data": {
      "text/plain": [
       "<Axes: xlabel='Hypertension', ylabel='count'>"
      ]
     },
     "execution_count": 32,
     "metadata": {},
     "output_type": "execute_result"
    },
    {
     "data": {
      "image/png": "[encoded data removed]",
      "text/plain": [
       "<Figure size 600x600 with 1 Axes>"
      ]
     },
     "metadata": {},
     "output_type": "display_data"
    }
   ],
   "source": [
    "# checking and analyzing hypertension\n",
    "plt.figure(figsize=(6,6))\n",
    "sns.countplot(x='Hypertension', data=df , palette='viridis')"
   ]
  },
  {
   "cell_type": "code",
   "execution_count": 33,
   "id": "0c111f79",
   "metadata": {},
   "outputs": [
    {
     "data": {
      "text/plain": [
       "Index(['Id', 'Age', 'Blood_Pressure', 'Specific_Gravity', 'Albumin', 'Sugar',\n",
       "       'Red_Blood_Cells', 'Pus_Cell', 'Pus_Cell_Clumps', 'Bacteria',\n",
       "       'Blood_Glucose_Random', 'Blood_Urea', 'Serum_Creatinine', 'Sodium',\n",
       "       'Potassium', 'Hemoglobin', 'Packed_Cell_Volume',\n",
       "       'White_Blood_Cell_Count', 'Red_Blood_Cell_Count', 'Hypertension',\n",
       "       'Diabetes_Mellitus', 'Coronary_Artery_Disease', 'Appetite',\n",
       "       'Pedal_Edema', 'Anemia', 'Target_Class'],\n",
       "      dtype='object')"
      ]
     },
     "execution_count": 33,
     "metadata": {},
     "output_type": "execute_result"
    }
   ],
   "source": [
    "df.columns"
   ]
  },
  {
   "cell_type": "code",
   "execution_count": 34,
   "id": "78ce9b2e",
   "metadata": {},
   "outputs": [
    {
     "data": {
      "text/plain": [
       "Bacteria\n",
       "notpresent    374\n",
       "present        22\n",
       "Name: count, dtype: int64"
      ]
     },
     "execution_count": 34,
     "metadata": {},
     "output_type": "execute_result"
    }
   ],
   "source": [
    "df.Bacteria.value_counts()"
   ]
  },
  {
   "cell_type": "code",
   "execution_count": 35,
   "id": "18d6bb9a",
   "metadata": {},
   "outputs": [
    {
     "data": {
      "text/plain": [
       "<Axes: xlabel='Bacteria', ylabel='count'>"
      ]
     },
     "execution_count": 35,
     "metadata": {},
     "output_type": "execute_result"
    },
    {
     "data": {
      "image/png": "[encoded data removed]",
      "text/plain": [
       "<Figure size 640x480 with 1 Axes>"
      ]
     },
     "metadata": {},
     "output_type": "display_data"
    }
   ],
   "source": [
    "sns.countplot(x ='Bacteria', data=df, palette='deep')"
   ]
  },
  {
   "cell_type": "code",
   "execution_count": 36,
   "id": "51fb2139",
   "metadata": {},
   "outputs": [
    {
     "data": {
      "text/plain": [
       "Index(['Id', 'Age', 'Blood_Pressure', 'Specific_Gravity', 'Albumin', 'Sugar',\n",
       "       'Red_Blood_Cells', 'Pus_Cell', 'Pus_Cell_Clumps', 'Bacteria',\n",
       "       'Blood_Glucose_Random', 'Blood_Urea', 'Serum_Creatinine', 'Sodium',\n",
       "       'Potassium', 'Hemoglobin', 'Packed_Cell_Volume',\n",
       "       'White_Blood_Cell_Count', 'Red_Blood_Cell_Count', 'Hypertension',\n",
       "       'Diabetes_Mellitus', 'Coronary_Artery_Disease', 'Appetite',\n",
       "       'Pedal_Edema', 'Anemia', 'Target_Class'],\n",
       "      dtype='object')"
      ]
     },
     "execution_count": 36,
     "metadata": {},
     "output_type": "execute_result"
    }
   ],
   "source": [
    "df.columns\n"
   ]
  },
  {
   "cell_type": "code",
   "execution_count": 37,
   "id": "65d6f89c",
   "metadata": {},
   "outputs": [
    {
     "data": {
      "image/png": "[encoded data removed]",
      "text/plain": [
       "<Figure size 600x600 with 1 Axes>"
      ]
     },
     "metadata": {},
     "output_type": "display_data"
    }
   ],
   "source": [
    "# we are checking blood urea with class \n",
    "plt.figure(figsize=(6,6))\n",
    "\n",
    "sns.boxplot(x = \"Target_Class\", y=\"Blood_Urea\", data=df, palette='dark')\n",
    "\n",
    "plt.title('Checking Outlier of Blood urea against Class')\n",
    "\n",
    "plt.show()"
   ]
  },
  {
   "cell_type": "markdown",
   "id": "179b3c93",
   "metadata": {},
   "source": [
    "inshights that we can take from above plot is \n",
    " * There are outliers present in Ckd \n",
    " * median of ckd blood urea is more than that of median of notckd blood urea"
   ]
  },
  {
   "cell_type": "code",
   "execution_count": 38,
   "id": "c9ead19e",
   "metadata": {},
   "outputs": [
    {
     "data": {
      "image/png": "[encoded data removed]",
      "text/plain": [
       "<Figure size 600x800 with 1 Axes>"
      ]
     },
     "metadata": {},
     "output_type": "display_data"
    }
   ],
   "source": [
    "# Voilin plot for checking outliers\n",
    "\n",
    "plt.figure(figsize=(6,8))\n",
    "\n",
    "sns.violinplot(x = \"Target_Class\", y=\"Serum_Creatinine\", data=df, palette='dark')\n",
    "\n",
    "plt.title('Checking Outlier of Blood urea against Class')\n",
    "\n",
    "plt.show()"
   ]
  },
  {
   "cell_type": "code",
   "execution_count": 39,
   "id": "d0cd8ba4",
   "metadata": {},
   "outputs": [
    {
     "data": {
      "text/plain": [
       "Index(['Id', 'Age', 'Blood_Pressure', 'Specific_Gravity', 'Albumin', 'Sugar',\n",
       "       'Red_Blood_Cells', 'Pus_Cell', 'Pus_Cell_Clumps', 'Bacteria',\n",
       "       'Blood_Glucose_Random', 'Blood_Urea', 'Serum_Creatinine', 'Sodium',\n",
       "       'Potassium', 'Hemoglobin', 'Packed_Cell_Volume',\n",
       "       'White_Blood_Cell_Count', 'Red_Blood_Cell_Count', 'Hypertension',\n",
       "       'Diabetes_Mellitus', 'Coronary_Artery_Disease', 'Appetite',\n",
       "       'Pedal_Edema', 'Anemia', 'Target_Class'],\n",
       "      dtype='object')"
      ]
     },
     "execution_count": 39,
     "metadata": {},
     "output_type": "execute_result"
    }
   ],
   "source": [
    "df.columns"
   ]
  },
  {
   "cell_type": "code",
   "execution_count": 40,
   "id": "36e8d446",
   "metadata": {},
   "outputs": [
    {
     "data": {
      "text/plain": [
       "Target_Class\n",
       "ckd       54.541322\n",
       "notckd    46.516779\n",
       "Name: Age, dtype: float64"
      ]
     },
     "execution_count": 40,
     "metadata": {},
     "output_type": "execute_result"
    }
   ],
   "source": [
    "# What is the average age of patients with and without CKD (Target_Class)?\n",
    "df.groupby('Target_Class')['Age'].mean()"
   ]
  },
  {
   "cell_type": "code",
   "execution_count": 41,
   "id": "69d5b0d0",
   "metadata": {},
   "outputs": [
    {
     "data": {
      "text/plain": [
       "Target_Class\n",
       "ckd       180.0\n",
       "notckd     80.0\n",
       "Name: Blood_Pressure, dtype: float64"
      ]
     },
     "execution_count": 41,
     "metadata": {},
     "output_type": "execute_result"
    }
   ],
   "source": [
    "# Is blood pressure higher among CKD patients compared to non-CKD patients?\n",
    "\n",
    "df.groupby(\"Target_Class\")['Blood_Pressure'].max()"
   ]
  },
  {
   "cell_type": "code",
   "execution_count": 42,
   "id": "7bd96e7b",
   "metadata": {},
   "outputs": [
    {
     "data": {
      "text/plain": [
       "Index(['Id', 'Age', 'Blood_Pressure', 'Specific_Gravity', 'Albumin', 'Sugar',\n",
       "       'Red_Blood_Cells', 'Pus_Cell', 'Pus_Cell_Clumps', 'Bacteria',\n",
       "       'Blood_Glucose_Random', 'Blood_Urea', 'Serum_Creatinine', 'Sodium',\n",
       "       'Potassium', 'Hemoglobin', 'Packed_Cell_Volume',\n",
       "       'White_Blood_Cell_Count', 'Red_Blood_Cell_Count', 'Hypertension',\n",
       "       'Diabetes_Mellitus', 'Coronary_Artery_Disease', 'Appetite',\n",
       "       'Pedal_Edema', 'Anemia', 'Target_Class'],\n",
       "      dtype='object')"
      ]
     },
     "execution_count": 42,
     "metadata": {},
     "output_type": "execute_result"
    }
   ],
   "source": [
    "df.columns"
   ]
  },
  {
   "cell_type": "code",
   "execution_count": 43,
   "id": "e646c1aa",
   "metadata": {},
   "outputs": [
    {
     "data": {
      "text/plain": [
       "array(['ckd', 'notckd'], dtype=object)"
      ]
     },
     "execution_count": 43,
     "metadata": {},
     "output_type": "execute_result"
    }
   ],
   "source": [
    "df.Target_Class.unique()"
   ]
  },
  {
   "cell_type": "code",
   "execution_count": 44,
   "id": "4d7fece2",
   "metadata": {},
   "outputs": [
    {
     "data": {
      "text/plain": [
       "Target_Class\n",
       "ckd       209\n",
       "notckd    145\n",
       "Name: Albumin, dtype: int64"
      ]
     },
     "execution_count": 44,
     "metadata": {},
     "output_type": "execute_result"
    }
   ],
   "source": [
    "# What's the relationship between albumin levels and CKD status?\n",
    "df.groupby('Target_Class')['Albumin'].count()"
   ]
  },
  {
   "cell_type": "code",
   "execution_count": 45,
   "id": "1c0ca93c",
   "metadata": {},
   "outputs": [
    {
     "data": {
      "text/html": [
       "<div>\n",
       "<style scoped>\n",
       "    .dataframe tbody tr th:only-of-type {\n",
       "        vertical-align: middle;\n",
       "    }\n",
       "\n",
       "    .dataframe tbody tr th {\n",
       "        vertical-align: top;\n",
       "    }\n",
       "\n",
       "    .dataframe thead th {\n",
       "        text-align: right;\n",
       "    }\n",
       "</style>\n",
       "<table border=\"1\" class=\"dataframe\">\n",
       "  <thead>\n",
       "    <tr style=\"text-align: right;\">\n",
       "      <th></th>\n",
       "      <th>Blood_Urea</th>\n",
       "      <th>Hemoglobin</th>\n",
       "    </tr>\n",
       "    <tr>\n",
       "      <th>Target_Class</th>\n",
       "      <th></th>\n",
       "      <th></th>\n",
       "    </tr>\n",
       "  </thead>\n",
       "  <tbody>\n",
       "    <tr>\n",
       "      <th>ckd</th>\n",
       "      <td>72.389030</td>\n",
       "      <td>10.647549</td>\n",
       "    </tr>\n",
       "    <tr>\n",
       "      <th>notckd</th>\n",
       "      <td>32.798611</td>\n",
       "      <td>15.188194</td>\n",
       "    </tr>\n",
       "  </tbody>\n",
       "</table>\n",
       "</div>"
      ],
      "text/plain": [
       "              Blood_Urea  Hemoglobin\n",
       "Target_Class                        \n",
       "ckd            72.389030   10.647549\n",
       "notckd         32.798611   15.188194"
      ]
     },
     "execution_count": 45,
     "metadata": {},
     "output_type": "execute_result"
    }
   ],
   "source": [
    "# Do CKD patients have higher blood urea and lower hemoglobin on average?\n",
    "df.groupby('Target_Class').agg({'Blood_Urea': 'mean' , 'Hemoglobin' :'mean'})\n"
   ]
  },
  {
   "cell_type": "code",
   "execution_count": 46,
   "id": "59edfbaf",
   "metadata": {},
   "outputs": [
    {
     "data": {
      "text/plain": [
       "<Axes: xlabel='Target_Class', ylabel='Hemoglobin'>"
      ]
     },
     "execution_count": 46,
     "metadata": {},
     "output_type": "execute_result"
    },
    {
     "data": {
      "image/png": "[encoded data removed]",
      "text/plain": [
       "<Figure size 640x480 with 1 Axes>"
      ]
     },
     "metadata": {},
     "output_type": "display_data"
    }
   ],
   "source": [
    "sns.boxplot(x=\"Target_Class\",y=\"Hemoglobin\",data=df, palette= 'dark')"
   ]
  },
  {
   "cell_type": "code",
   "execution_count": 47,
   "id": "ba386ed4",
   "metadata": {},
   "outputs": [
    {
     "data": {
      "text/plain": [
       "Text(0.5, 1.0, 'Appetitte Distribution')"
      ]
     },
     "execution_count": 47,
     "metadata": {},
     "output_type": "execute_result"
    },
    {
     "data": {
      "image/png": "[encoded data removed]",
      "text/plain": [
       "<Figure size 500x500 with 1 Axes>"
      ]
     },
     "metadata": {},
     "output_type": "display_data"
    }
   ],
   "source": [
    "plt.figure(figsize=(5,5))\n",
    "\n",
    "df.Appetite.value_counts().plot.pie(\n",
    "    autopct = '%1.1f%%',  \n",
    "    explode = ( 0.1, 0.1),\n",
    "    startangle = 90   ,   \n",
    "    shadow=True,\n",
    "    colors=['#66b3ff','#ff9999']\n",
    ")\n",
    "plt.title(\"Appetitte Distribution\")\n",
    "\n",
    "\n"
   ]
  },
  {
   "cell_type": "code",
   "execution_count": 48,
   "id": "eef8beb3",
   "metadata": {},
   "outputs": [
    {
     "data": {
      "text/plain": [
       "<Axes: ylabel='count'>"
      ]
     },
     "execution_count": 48,
     "metadata": {},
     "output_type": "execute_result"
    },
    {
     "data": {
      "image/png": "[encoded data removed]",
      "text/plain": [
       "<Figure size 640x480 with 1 Axes>"
      ]
     },
     "metadata": {},
     "output_type": "display_data"
    }
   ],
   "source": [
    "df['Diabetes_Mellitus'].value_counts().plot.pie(autopct = \"%1.1f%%\", wedgeprops =dict(width =0.3),explode =(0,0.1), shadow = True , startangle =90)"
   ]
  },
  {
   "cell_type": "code",
   "execution_count": 49,
   "id": "7c3e5282",
   "metadata": {},
   "outputs": [
    {
     "data": {
      "text/plain": [
       "Index(['Id', 'Age', 'Blood_Pressure', 'Specific_Gravity', 'Albumin', 'Sugar',\n",
       "       'Red_Blood_Cells', 'Pus_Cell', 'Pus_Cell_Clumps', 'Bacteria',\n",
       "       'Blood_Glucose_Random', 'Blood_Urea', 'Serum_Creatinine', 'Sodium',\n",
       "       'Potassium', 'Hemoglobin', 'Packed_Cell_Volume',\n",
       "       'White_Blood_Cell_Count', 'Red_Blood_Cell_Count', 'Hypertension',\n",
       "       'Diabetes_Mellitus', 'Coronary_Artery_Disease', 'Appetite',\n",
       "       'Pedal_Edema', 'Anemia', 'Target_Class'],\n",
       "      dtype='object')"
      ]
     },
     "execution_count": 49,
     "metadata": {},
     "output_type": "execute_result"
    }
   ],
   "source": [
    "df.columns"
   ]
  },
  {
   "cell_type": "code",
   "execution_count": 50,
   "id": "2516a5b1",
   "metadata": {},
   "outputs": [
    {
     "data": {
      "image/png": "[encoded data removed]",
      "text/plain": [
       "<Figure size 600x600 with 1 Axes>"
      ]
     },
     "metadata": {},
     "output_type": "display_data"
    }
   ],
   "source": [
    "# bivariate analysis\n",
    "# chacking blood pressure according to age \n",
    "plt.figure(figsize=(6,6))\n",
    "sns.scatterplot(x='Age',y='Blood_Pressure',hue='Target_Class',data=df)\n",
    "plt.title(\"Blood Pressure at different age \", fontweight = 'bold')\n",
    "plt.ylabel(\"Blood Pressure\")\n",
    "plt.xlabel(\"Age\")\n",
    "plt.show()"
   ]
  },
  {
   "cell_type": "code",
   "execution_count": 51,
   "id": "1d207b80",
   "metadata": {},
   "outputs": [
    {
     "data": {
      "text/plain": [
       "Index(['Id', 'Age', 'Blood_Pressure', 'Specific_Gravity', 'Albumin', 'Sugar',\n",
       "       'Red_Blood_Cells', 'Pus_Cell', 'Pus_Cell_Clumps', 'Bacteria',\n",
       "       'Blood_Glucose_Random', 'Blood_Urea', 'Serum_Creatinine', 'Sodium',\n",
       "       'Potassium', 'Hemoglobin', 'Packed_Cell_Volume',\n",
       "       'White_Blood_Cell_Count', 'Red_Blood_Cell_Count', 'Hypertension',\n",
       "       'Diabetes_Mellitus', 'Coronary_Artery_Disease', 'Appetite',\n",
       "       'Pedal_Edema', 'Anemia', 'Target_Class'],\n",
       "      dtype='object')"
      ]
     },
     "execution_count": 51,
     "metadata": {},
     "output_type": "execute_result"
    }
   ],
   "source": [
    "df.columns"
   ]
  }
 ],
 "metadata": {
  "kernelspec": {
   "display_name": "Python 3",
   "language": "python",
   "name": "python3"
  },
  "language_info": {
   "codemirror_mode": {
    "name": "ipython",
    "version": 3
   },
   "file_extension": ".py",
   "mimetype": "text/x-python",
   "name": "python",
   "nbconvert_exporter": "python",
   "pygments_lexer": "ipython3",
   "version": "3.11.9"
  }
 },
 "nbformat": 4,
 "nbformat_minor": 5
}
